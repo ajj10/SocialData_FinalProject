{
  "nbformat": 4,
  "nbformat_minor": 5,
  "metadata": {
    "kernelspec": {
      "name": "python372jvsc74a57bd0e4ece4aaf463b7a82e3fda5d897c29a3a3bf6a4981803c26da4ea32c9878a2a8",
      "display_name": "Python 3.7.2 64-bit"
    },
    "language_info": {
      "codemirror_mode": {
        "name": "ipython",
        "version": 3
      },
      "file_extension": ".py",
      "mimetype": "text/x-python",
      "name": "python",
      "nbconvert_exporter": "python",
      "pygments_lexer": "ipython3",
      "version": "3.7.2-final"
    },
    "colab": {
      "name": "Assignment2_final.ipynb",
      "provenance": [],
      "collapsed_sections": [
        "funded-limitation"
      ]
    },
    "metadata": {
      "interpreter": {
        "hash": "e4ece4aaf463b7a82e3fda5d897c29a3a3bf6a4981803c26da4ea32c9878a2a8"
      }
    }
  },
  "cells": [
    {
      "cell_type": "markdown",
      "metadata": {
        "id": "funded-limitation"
      },
      "source": [
        "# Final Project: Vehicle Collisions in New York City"
      ],
      "id": "funded-limitation"
    },
    {
      "source": [
        "## Motivation\n",
        "- What is your dataset?\n",
        "- Why did you choose this/these particular dataset(s)?\n",
        "- What was your goal for the end user's experience?"
      ],
      "cell_type": "markdown",
      "metadata": {}
    },
    {
      "cell_type": "code",
      "execution_count": 1,
      "metadata": {},
      "outputs": [],
      "source": [
        "import pandas as pd\n",
        "import matplotlib\n",
        "import numpy as np\n",
        "import matplotlib.pyplot as plt\n",
        "import seaborn as sns\n",
        "import warnings\n",
        "\n",
        "plt.style.use(\"seaborn-darkgrid\")\n",
        "warnings.filterwarnings('ignore')"
      ]
    },
    {
      "cell_type": "code",
      "execution_count": 2,
      "metadata": {},
      "outputs": [
        {
          "output_type": "execute_result",
          "data": {
            "text/plain": [
              "   CRASH DATE CRASH TIME    BOROUGH ZIP CODE   LATITUDE   LONGITUDE  \\\n",
              "0  12/15/2020      17:00   BROOKLYN    11211   40.71372   -73.93497   \n",
              "1  02/01/2021      16:30   BROOKLYN    11203   40.65771   -73.94072   \n",
              "2  01/07/2021       9:28  MANHATTAN    10007   40.71604  -74.010414   \n",
              "3  02/07/2021      22:10        NaN      NaN  40.686497   -73.94164   \n",
              "4  12/16/2020      19:03      BRONX    10452  40.835052   -73.92615   \n",
              "\n",
              "                 LOCATION                    ON STREET NAME  \\\n",
              "0   (40.71372, -73.93497)  MORGAN AVENUE                      \n",
              "1   (40.65771, -73.94072)                               NaN   \n",
              "2  (40.71604, -74.010414)                               NaN   \n",
              "3  (40.686497, -73.94164)  MONROE STREET                      \n",
              "4  (40.835052, -73.92615)  WEST 166 STREET                    \n",
              "\n",
              "   CROSS STREET NAME                           OFF STREET NAME  ...  \\\n",
              "0       DEVOE STREET                                       NaN  ...   \n",
              "1                NaN  599       WINTHROP STREET                 ...   \n",
              "2                NaN  160       CHAMBERS STREET                 ...   \n",
              "3                NaN                                       NaN  ...   \n",
              "4  WOODYCREST AVENUE                                       NaN  ...   \n",
              "\n",
              "  CONTRIBUTING FACTOR VEHICLE 2 CONTRIBUTING FACTOR VEHICLE 3  \\\n",
              "0                   Unspecified                           NaN   \n",
              "1                   Unspecified                           NaN   \n",
              "2                   Unspecified                           NaN   \n",
              "3                   Unspecified                           NaN   \n",
              "4                   Unspecified                   Unspecified   \n",
              "\n",
              "  CONTRIBUTING FACTOR VEHICLE 4 CONTRIBUTING FACTOR VEHICLE 5 COLLISION_ID  \\\n",
              "0                           NaN                           NaN      4376435   \n",
              "1                           NaN                           NaN      4388554   \n",
              "2                           NaN                           NaN      4382207   \n",
              "3                           NaN                           NaN      4389965   \n",
              "4                           NaN                           NaN      4376755   \n",
              "\n",
              "                   VEHICLE TYPE CODE 1                  VEHICLE TYPE CODE 2  \\\n",
              "0  Station Wagon/Sport Utility Vehicle                            E-Scooter   \n",
              "1  Station Wagon/Sport Utility Vehicle                                  NaN   \n",
              "2                                Sedan  Station Wagon/Sport Utility Vehicle   \n",
              "3                        Pick-up Truck                                  NaN   \n",
              "4  Station Wagon/Sport Utility Vehicle                                Sedan   \n",
              "\n",
              "  VEHICLE TYPE CODE 3 VEHICLE TYPE CODE 4 VEHICLE TYPE CODE 5  \n",
              "0                 NaN                 NaN                 NaN  \n",
              "1                 NaN                 NaN                 NaN  \n",
              "2                 NaN                 NaN                 NaN  \n",
              "3                 NaN                 NaN                 NaN  \n",
              "4               Sedan                 NaN                 NaN  \n",
              "\n",
              "[5 rows x 29 columns]"
            ],
            "text/html": "<div>\n<style scoped>\n    .dataframe tbody tr th:only-of-type {\n        vertical-align: middle;\n    }\n\n    .dataframe tbody tr th {\n        vertical-align: top;\n    }\n\n    .dataframe thead th {\n        text-align: right;\n    }\n</style>\n<table border=\"1\" class=\"dataframe\">\n  <thead>\n    <tr style=\"text-align: right;\">\n      <th></th>\n      <th>CRASH DATE</th>\n      <th>CRASH TIME</th>\n      <th>BOROUGH</th>\n      <th>ZIP CODE</th>\n      <th>LATITUDE</th>\n      <th>LONGITUDE</th>\n      <th>LOCATION</th>\n      <th>ON STREET NAME</th>\n      <th>CROSS STREET NAME</th>\n      <th>OFF STREET NAME</th>\n      <th>...</th>\n      <th>CONTRIBUTING FACTOR VEHICLE 2</th>\n      <th>CONTRIBUTING FACTOR VEHICLE 3</th>\n      <th>CONTRIBUTING FACTOR VEHICLE 4</th>\n      <th>CONTRIBUTING FACTOR VEHICLE 5</th>\n      <th>COLLISION_ID</th>\n      <th>VEHICLE TYPE CODE 1</th>\n      <th>VEHICLE TYPE CODE 2</th>\n      <th>VEHICLE TYPE CODE 3</th>\n      <th>VEHICLE TYPE CODE 4</th>\n      <th>VEHICLE TYPE CODE 5</th>\n    </tr>\n  </thead>\n  <tbody>\n    <tr>\n      <th>0</th>\n      <td>12/15/2020</td>\n      <td>17:00</td>\n      <td>BROOKLYN</td>\n      <td>11211</td>\n      <td>40.71372</td>\n      <td>-73.93497</td>\n      <td>(40.71372, -73.93497)</td>\n      <td>MORGAN AVENUE</td>\n      <td>DEVOE STREET</td>\n      <td>NaN</td>\n      <td>...</td>\n      <td>Unspecified</td>\n      <td>NaN</td>\n      <td>NaN</td>\n      <td>NaN</td>\n      <td>4376435</td>\n      <td>Station Wagon/Sport Utility Vehicle</td>\n      <td>E-Scooter</td>\n      <td>NaN</td>\n      <td>NaN</td>\n      <td>NaN</td>\n    </tr>\n    <tr>\n      <th>1</th>\n      <td>02/01/2021</td>\n      <td>16:30</td>\n      <td>BROOKLYN</td>\n      <td>11203</td>\n      <td>40.65771</td>\n      <td>-73.94072</td>\n      <td>(40.65771, -73.94072)</td>\n      <td>NaN</td>\n      <td>NaN</td>\n      <td>599       WINTHROP STREET</td>\n      <td>...</td>\n      <td>Unspecified</td>\n      <td>NaN</td>\n      <td>NaN</td>\n      <td>NaN</td>\n      <td>4388554</td>\n      <td>Station Wagon/Sport Utility Vehicle</td>\n      <td>NaN</td>\n      <td>NaN</td>\n      <td>NaN</td>\n      <td>NaN</td>\n    </tr>\n    <tr>\n      <th>2</th>\n      <td>01/07/2021</td>\n      <td>9:28</td>\n      <td>MANHATTAN</td>\n      <td>10007</td>\n      <td>40.71604</td>\n      <td>-74.010414</td>\n      <td>(40.71604, -74.010414)</td>\n      <td>NaN</td>\n      <td>NaN</td>\n      <td>160       CHAMBERS STREET</td>\n      <td>...</td>\n      <td>Unspecified</td>\n      <td>NaN</td>\n      <td>NaN</td>\n      <td>NaN</td>\n      <td>4382207</td>\n      <td>Sedan</td>\n      <td>Station Wagon/Sport Utility Vehicle</td>\n      <td>NaN</td>\n      <td>NaN</td>\n      <td>NaN</td>\n    </tr>\n    <tr>\n      <th>3</th>\n      <td>02/07/2021</td>\n      <td>22:10</td>\n      <td>NaN</td>\n      <td>NaN</td>\n      <td>40.686497</td>\n      <td>-73.94164</td>\n      <td>(40.686497, -73.94164)</td>\n      <td>MONROE STREET</td>\n      <td>NaN</td>\n      <td>NaN</td>\n      <td>...</td>\n      <td>Unspecified</td>\n      <td>NaN</td>\n      <td>NaN</td>\n      <td>NaN</td>\n      <td>4389965</td>\n      <td>Pick-up Truck</td>\n      <td>NaN</td>\n      <td>NaN</td>\n      <td>NaN</td>\n      <td>NaN</td>\n    </tr>\n    <tr>\n      <th>4</th>\n      <td>12/16/2020</td>\n      <td>19:03</td>\n      <td>BRONX</td>\n      <td>10452</td>\n      <td>40.835052</td>\n      <td>-73.92615</td>\n      <td>(40.835052, -73.92615)</td>\n      <td>WEST 166 STREET</td>\n      <td>WOODYCREST AVENUE</td>\n      <td>NaN</td>\n      <td>...</td>\n      <td>Unspecified</td>\n      <td>Unspecified</td>\n      <td>NaN</td>\n      <td>NaN</td>\n      <td>4376755</td>\n      <td>Station Wagon/Sport Utility Vehicle</td>\n      <td>Sedan</td>\n      <td>Sedan</td>\n      <td>NaN</td>\n      <td>NaN</td>\n    </tr>\n  </tbody>\n</table>\n<p>5 rows × 29 columns</p>\n</div>"
          },
          "metadata": {},
          "execution_count": 2
        }
      ],
      "source": [
        "collisions_df_original = pd.read_csv(\"Motor_Vehicle_Collisions_-_Crashes.csv\", sep=',', error_bad_lines=False, index_col=False, dtype='unicode')\n",
        "collisions_df_original.head()"
      ]
    },
    {
      "source": [
        "## Basic stats. Let's understand the dataset better\n",
        "- Write about your choices in data cleaning and preprocessing\n",
        "- Write a short section that discusses the dataset stats, containing key points/plots from your exploratory data analysis."
      ],
      "cell_type": "markdown",
      "metadata": {}
    },
    {
      "cell_type": "code",
      "execution_count": 3,
      "metadata": {},
      "outputs": [
        {
          "output_type": "execute_result",
          "data": {
            "text/plain": [
              "(1770881, 29)"
            ]
          },
          "metadata": {},
          "execution_count": 3
        }
      ],
      "source": [
        "collisions_df_original.shape"
      ]
    },
    {
      "source": [
        "## Data Analysis\n",
        "- Describe your data analysis and explain what you've learned about the dataset.\n",
        "- If relevant, talk about your machine-learning."
      ],
      "cell_type": "markdown",
      "metadata": {}
    },
    {
      "source": [
        "## Genre. Which genre of data story did you use?\n",
        "- Which tools did you use from each of the 3 categories of Visual Narrative (Figure 7 in Segal and Heer). Why?\n",
        "- Which tools did you use from each of the 3 categories of Narrative Structure (Figure 7 in Segal and Heer). Why?"
      ],
      "cell_type": "markdown",
      "metadata": {}
    },
    {
      "source": [
        "## Visualizations.\n",
        "- Explain the visualizations you've chosen.\n",
        "- Why are they right for the story you want to tell?"
      ],
      "cell_type": "markdown",
      "metadata": {}
    },
    {
      "source": [
        "## Discussion. Think critically about your creation\n",
        "- What went well?,\n",
        "- What is still missing? What could be improved?, Why?"
      ],
      "cell_type": "markdown",
      "metadata": {}
    },
    {
      "source": [
        "## Contributions. Who did what?\n",
        "- You should write (just briefly) which group member was the main responsible for which elements of the assignment. (I want you guys to understand every part of the assignment, but usually there is someone who took lead role on certain portions of the work. That's what you should explain)."
      ],
      "cell_type": "markdown",
      "metadata": {}
    }
  ]
}